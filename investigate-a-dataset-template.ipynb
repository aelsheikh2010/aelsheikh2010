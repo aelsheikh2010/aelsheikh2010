{
 "cells": [
  {
   "cell_type": "markdown",
   "metadata": {},
   "source": [
    "\n",
    "# Project: Investigate and analyze ITMDB 5000 Movie Dataset\n",
    "\n",
    "## Table of Contents\n",
    "<ul>\n",
    "<li><a href=\"#intro\">Introduction</a></li>\n",
    "<li><a href=\"#wrangling\">Data Wrangling</a></li>\n",
    "<li><a href=\"#eda\">Exploratory Data Analysis</a></li>\n",
    "<li><a href=\"#conclusions\">Conclusions</a></li>\n",
    "</ul>"
   ]
  },
  {
   "cell_type": "markdown",
   "metadata": {},
   "source": [
    "\n",
    "## Introduction\n",
    "    \n",
    "   <p>Choosing the ITMDB 5000 Movie Datasetfor analysis becuase i have familier with this business like more persoms.dataset\n",
    "     contains a clear data about 10000 movies include Budget , Revenue and vote rate for each movie and onther data for           each film</p>\n",
    "     \n",
    "### Questions:\n",
    "<ul>\n",
    "    <li>\n",
    "     1- Which genres are most popular from year to year?\n",
    "    </li>\n",
    " </ul>\n",
    " <ul>\n",
    "    <li>\n",
    "     2-Which genres has the highest and lowest budget from year to year?\n",
    "    </li>\n",
    " </ul>\n",
    "<ul> \n",
    "    <li>\n",
    "     3-Which year has the highest release of movies?\n",
    "    </li>\n",
    "</ul> \n",
    "<ul>\n",
    "    <li>\n",
    "     4-What level of vote rating(vote_average value)receives highest revenue?\n",
    "    </li>\n",
    "    \n",
    "\n",
    "    \n"
   ]
  },
  {
   "cell_type": "code",
   "execution_count": 1,
   "metadata": {},
   "outputs": [],
   "source": [
    "# Use this cell to set up import statements for all of the packages that you\n",
    "#   plan to use.\n",
    "import numpy as np\n",
    "import pandas as pd\n",
    "import matplotlib.pyplot as plt\n",
    "import seaborn as sns\n",
    "%matplotlib inline\n",
    "\n",
    "# Remember to include a 'magic word' so that your visualizations are plotted\n",
    "#   inline with the notebook. See this page for more:\n",
    "#   http://ipython.readthedocs.io/en/stable/interactive/magics.html\n",
    "\n"
   ]
  },
  {
   "cell_type": "markdown",
   "metadata": {},
   "source": [
    "<a id='wrangling'></a>\n",
    "## Data Wrangling\n",
    "\n",
    ">  After the observation for the dataset that loaded and posed some question i will delete unused data non relative to this analysis and keep the rest of data that is relative to the analysis .\n",
    "\n",
    "### General Properties"
   ]
  },
  {
   "cell_type": "code",
   "execution_count": 2,
   "metadata": {},
   "outputs": [
    {
     "data": {
      "text/html": [
       "<div>\n",
       "<style scoped>\n",
       "    .dataframe tbody tr th:only-of-type {\n",
       "        vertical-align: middle;\n",
       "    }\n",
       "\n",
       "    .dataframe tbody tr th {\n",
       "        vertical-align: top;\n",
       "    }\n",
       "\n",
       "    .dataframe thead th {\n",
       "        text-align: right;\n",
       "    }\n",
       "</style>\n",
       "<table border=\"1\" class=\"dataframe\">\n",
       "  <thead>\n",
       "    <tr style=\"text-align: right;\">\n",
       "      <th></th>\n",
       "      <th>id</th>\n",
       "      <th>imdb_id</th>\n",
       "      <th>popularity</th>\n",
       "      <th>budget</th>\n",
       "      <th>revenue</th>\n",
       "      <th>original_title</th>\n",
       "      <th>cast</th>\n",
       "      <th>homepage</th>\n",
       "      <th>director</th>\n",
       "      <th>tagline</th>\n",
       "      <th>...</th>\n",
       "      <th>overview</th>\n",
       "      <th>runtime</th>\n",
       "      <th>genres</th>\n",
       "      <th>production_companies</th>\n",
       "      <th>release_date</th>\n",
       "      <th>vote_count</th>\n",
       "      <th>vote_average</th>\n",
       "      <th>release_year</th>\n",
       "      <th>budget_adj</th>\n",
       "      <th>revenue_adj</th>\n",
       "    </tr>\n",
       "  </thead>\n",
       "  <tbody>\n",
       "    <tr>\n",
       "      <th>0</th>\n",
       "      <td>135397</td>\n",
       "      <td>tt0369610</td>\n",
       "      <td>32.985763</td>\n",
       "      <td>150000000</td>\n",
       "      <td>1513528810</td>\n",
       "      <td>Jurassic World</td>\n",
       "      <td>Chris Pratt|Bryce Dallas Howard|Irrfan Khan|Vi...</td>\n",
       "      <td>http://www.jurassicworld.com/</td>\n",
       "      <td>Colin Trevorrow</td>\n",
       "      <td>The park is open.</td>\n",
       "      <td>...</td>\n",
       "      <td>Twenty-two years after the events of Jurassic ...</td>\n",
       "      <td>124</td>\n",
       "      <td>Action|Adventure|Science Fiction|Thriller</td>\n",
       "      <td>Universal Studios|Amblin Entertainment|Legenda...</td>\n",
       "      <td>6/9/15</td>\n",
       "      <td>5562</td>\n",
       "      <td>6.5</td>\n",
       "      <td>2015</td>\n",
       "      <td>1.379999e+08</td>\n",
       "      <td>1.392446e+09</td>\n",
       "    </tr>\n",
       "    <tr>\n",
       "      <th>1</th>\n",
       "      <td>76341</td>\n",
       "      <td>tt1392190</td>\n",
       "      <td>28.419936</td>\n",
       "      <td>150000000</td>\n",
       "      <td>378436354</td>\n",
       "      <td>Mad Max: Fury Road</td>\n",
       "      <td>Tom Hardy|Charlize Theron|Hugh Keays-Byrne|Nic...</td>\n",
       "      <td>http://www.madmaxmovie.com/</td>\n",
       "      <td>George Miller</td>\n",
       "      <td>What a Lovely Day.</td>\n",
       "      <td>...</td>\n",
       "      <td>An apocalyptic story set in the furthest reach...</td>\n",
       "      <td>120</td>\n",
       "      <td>Action|Adventure|Science Fiction|Thriller</td>\n",
       "      <td>Village Roadshow Pictures|Kennedy Miller Produ...</td>\n",
       "      <td>5/13/15</td>\n",
       "      <td>6185</td>\n",
       "      <td>7.1</td>\n",
       "      <td>2015</td>\n",
       "      <td>1.379999e+08</td>\n",
       "      <td>3.481613e+08</td>\n",
       "    </tr>\n",
       "  </tbody>\n",
       "</table>\n",
       "<p>2 rows × 21 columns</p>\n",
       "</div>"
      ],
      "text/plain": [
       "       id    imdb_id  popularity     budget     revenue      original_title  \\\n",
       "0  135397  tt0369610   32.985763  150000000  1513528810      Jurassic World   \n",
       "1   76341  tt1392190   28.419936  150000000   378436354  Mad Max: Fury Road   \n",
       "\n",
       "                                                cast  \\\n",
       "0  Chris Pratt|Bryce Dallas Howard|Irrfan Khan|Vi...   \n",
       "1  Tom Hardy|Charlize Theron|Hugh Keays-Byrne|Nic...   \n",
       "\n",
       "                        homepage         director             tagline  ...  \\\n",
       "0  http://www.jurassicworld.com/  Colin Trevorrow   The park is open.  ...   \n",
       "1    http://www.madmaxmovie.com/    George Miller  What a Lovely Day.  ...   \n",
       "\n",
       "                                            overview runtime  \\\n",
       "0  Twenty-two years after the events of Jurassic ...     124   \n",
       "1  An apocalyptic story set in the furthest reach...     120   \n",
       "\n",
       "                                      genres  \\\n",
       "0  Action|Adventure|Science Fiction|Thriller   \n",
       "1  Action|Adventure|Science Fiction|Thriller   \n",
       "\n",
       "                                production_companies release_date vote_count  \\\n",
       "0  Universal Studios|Amblin Entertainment|Legenda...       6/9/15       5562   \n",
       "1  Village Roadshow Pictures|Kennedy Miller Produ...      5/13/15       6185   \n",
       "\n",
       "   vote_average  release_year    budget_adj   revenue_adj  \n",
       "0           6.5          2015  1.379999e+08  1.392446e+09  \n",
       "1           7.1          2015  1.379999e+08  3.481613e+08  \n",
       "\n",
       "[2 rows x 21 columns]"
      ]
     },
     "execution_count": 2,
     "metadata": {},
     "output_type": "execute_result"
    }
   ],
   "source": [
    "# Load your data and print out a few lines. Perform operations to inspect data\n",
    "#   types and look for instances of missing or possibly errant data.\n",
    "df = pd.read_csv('tmdb-movies.csv')\n",
    "#print first two rows from dataset\n",
    "df.head(2)"
   ]
  },
  {
   "cell_type": "code",
   "execution_count": 3,
   "metadata": {},
   "outputs": [
    {
     "data": {
      "text/plain": [
       "(10866, 21)"
      ]
     },
     "execution_count": 3,
     "metadata": {},
     "output_type": "execute_result"
    }
   ],
   "source": [
    "#Get the number of rows and columns\n",
    "df.shape"
   ]
  },
  {
   "cell_type": "markdown",
   "metadata": {},
   "source": [
    "#### data set contains 10866 rows and 21 columns"
   ]
  },
  {
   "cell_type": "code",
   "execution_count": 4,
   "metadata": {},
   "outputs": [
    {
     "data": {
      "text/html": [
       "<div>\n",
       "<style scoped>\n",
       "    .dataframe tbody tr th:only-of-type {\n",
       "        vertical-align: middle;\n",
       "    }\n",
       "\n",
       "    .dataframe tbody tr th {\n",
       "        vertical-align: top;\n",
       "    }\n",
       "\n",
       "    .dataframe thead th {\n",
       "        text-align: right;\n",
       "    }\n",
       "</style>\n",
       "<table border=\"1\" class=\"dataframe\">\n",
       "  <thead>\n",
       "    <tr style=\"text-align: right;\">\n",
       "      <th></th>\n",
       "      <th>id</th>\n",
       "      <th>popularity</th>\n",
       "      <th>budget</th>\n",
       "      <th>revenue</th>\n",
       "      <th>runtime</th>\n",
       "      <th>vote_count</th>\n",
       "      <th>vote_average</th>\n",
       "      <th>release_year</th>\n",
       "      <th>budget_adj</th>\n",
       "      <th>revenue_adj</th>\n",
       "    </tr>\n",
       "  </thead>\n",
       "  <tbody>\n",
       "    <tr>\n",
       "      <th>count</th>\n",
       "      <td>10866.000000</td>\n",
       "      <td>10866.000000</td>\n",
       "      <td>1.086600e+04</td>\n",
       "      <td>1.086600e+04</td>\n",
       "      <td>10866.000000</td>\n",
       "      <td>10866.000000</td>\n",
       "      <td>10866.000000</td>\n",
       "      <td>10866.000000</td>\n",
       "      <td>1.086600e+04</td>\n",
       "      <td>1.086600e+04</td>\n",
       "    </tr>\n",
       "    <tr>\n",
       "      <th>mean</th>\n",
       "      <td>66064.177434</td>\n",
       "      <td>0.646441</td>\n",
       "      <td>1.462570e+07</td>\n",
       "      <td>3.982332e+07</td>\n",
       "      <td>102.070863</td>\n",
       "      <td>217.389748</td>\n",
       "      <td>5.974922</td>\n",
       "      <td>2001.322658</td>\n",
       "      <td>1.755104e+07</td>\n",
       "      <td>5.136436e+07</td>\n",
       "    </tr>\n",
       "    <tr>\n",
       "      <th>std</th>\n",
       "      <td>92130.136561</td>\n",
       "      <td>1.000185</td>\n",
       "      <td>3.091321e+07</td>\n",
       "      <td>1.170035e+08</td>\n",
       "      <td>31.381405</td>\n",
       "      <td>575.619058</td>\n",
       "      <td>0.935142</td>\n",
       "      <td>12.812941</td>\n",
       "      <td>3.430616e+07</td>\n",
       "      <td>1.446325e+08</td>\n",
       "    </tr>\n",
       "    <tr>\n",
       "      <th>min</th>\n",
       "      <td>5.000000</td>\n",
       "      <td>0.000065</td>\n",
       "      <td>0.000000e+00</td>\n",
       "      <td>0.000000e+00</td>\n",
       "      <td>0.000000</td>\n",
       "      <td>10.000000</td>\n",
       "      <td>1.500000</td>\n",
       "      <td>1960.000000</td>\n",
       "      <td>0.000000e+00</td>\n",
       "      <td>0.000000e+00</td>\n",
       "    </tr>\n",
       "    <tr>\n",
       "      <th>25%</th>\n",
       "      <td>10596.250000</td>\n",
       "      <td>0.207583</td>\n",
       "      <td>0.000000e+00</td>\n",
       "      <td>0.000000e+00</td>\n",
       "      <td>90.000000</td>\n",
       "      <td>17.000000</td>\n",
       "      <td>5.400000</td>\n",
       "      <td>1995.000000</td>\n",
       "      <td>0.000000e+00</td>\n",
       "      <td>0.000000e+00</td>\n",
       "    </tr>\n",
       "    <tr>\n",
       "      <th>50%</th>\n",
       "      <td>20669.000000</td>\n",
       "      <td>0.383856</td>\n",
       "      <td>0.000000e+00</td>\n",
       "      <td>0.000000e+00</td>\n",
       "      <td>99.000000</td>\n",
       "      <td>38.000000</td>\n",
       "      <td>6.000000</td>\n",
       "      <td>2006.000000</td>\n",
       "      <td>0.000000e+00</td>\n",
       "      <td>0.000000e+00</td>\n",
       "    </tr>\n",
       "    <tr>\n",
       "      <th>75%</th>\n",
       "      <td>75610.000000</td>\n",
       "      <td>0.713817</td>\n",
       "      <td>1.500000e+07</td>\n",
       "      <td>2.400000e+07</td>\n",
       "      <td>111.000000</td>\n",
       "      <td>145.750000</td>\n",
       "      <td>6.600000</td>\n",
       "      <td>2011.000000</td>\n",
       "      <td>2.085325e+07</td>\n",
       "      <td>3.369710e+07</td>\n",
       "    </tr>\n",
       "    <tr>\n",
       "      <th>max</th>\n",
       "      <td>417859.000000</td>\n",
       "      <td>32.985763</td>\n",
       "      <td>4.250000e+08</td>\n",
       "      <td>2.781506e+09</td>\n",
       "      <td>900.000000</td>\n",
       "      <td>9767.000000</td>\n",
       "      <td>9.200000</td>\n",
       "      <td>2015.000000</td>\n",
       "      <td>4.250000e+08</td>\n",
       "      <td>2.827124e+09</td>\n",
       "    </tr>\n",
       "  </tbody>\n",
       "</table>\n",
       "</div>"
      ],
      "text/plain": [
       "                  id    popularity        budget       revenue       runtime  \\\n",
       "count   10866.000000  10866.000000  1.086600e+04  1.086600e+04  10866.000000   \n",
       "mean    66064.177434      0.646441  1.462570e+07  3.982332e+07    102.070863   \n",
       "std     92130.136561      1.000185  3.091321e+07  1.170035e+08     31.381405   \n",
       "min         5.000000      0.000065  0.000000e+00  0.000000e+00      0.000000   \n",
       "25%     10596.250000      0.207583  0.000000e+00  0.000000e+00     90.000000   \n",
       "50%     20669.000000      0.383856  0.000000e+00  0.000000e+00     99.000000   \n",
       "75%     75610.000000      0.713817  1.500000e+07  2.400000e+07    111.000000   \n",
       "max    417859.000000     32.985763  4.250000e+08  2.781506e+09    900.000000   \n",
       "\n",
       "         vote_count  vote_average  release_year    budget_adj   revenue_adj  \n",
       "count  10866.000000  10866.000000  10866.000000  1.086600e+04  1.086600e+04  \n",
       "mean     217.389748      5.974922   2001.322658  1.755104e+07  5.136436e+07  \n",
       "std      575.619058      0.935142     12.812941  3.430616e+07  1.446325e+08  \n",
       "min       10.000000      1.500000   1960.000000  0.000000e+00  0.000000e+00  \n",
       "25%       17.000000      5.400000   1995.000000  0.000000e+00  0.000000e+00  \n",
       "50%       38.000000      6.000000   2006.000000  0.000000e+00  0.000000e+00  \n",
       "75%      145.750000      6.600000   2011.000000  2.085325e+07  3.369710e+07  \n",
       "max     9767.000000      9.200000   2015.000000  4.250000e+08  2.827124e+09  "
      ]
     },
     "execution_count": 4,
     "metadata": {},
     "output_type": "execute_result"
    }
   ],
   "source": [
    "#view some basic statistical details like percentile, mean, std etc. of a data frame\n",
    "df.describe()"
   ]
  },
  {
   "cell_type": "markdown",
   "metadata": {},
   "source": [
    "</head>\n",
    "\n",
    "<body lang=EN-US style='tab-interval:.5in;word-wrap:break-word'>\n",
    "\n",
    "<div class=WordSection1>\n",
    "\n",
    "<p class=MsoNormal><span style='font-size:20.0pt;line-height:106%;color:#44546A;\n",
    "mso-themecolor:text2'>Observation</span><b>: after describe the data I found\n",
    "more data of Zero in the most feature depend on my question that I posed. <span\n",
    "style='mso-spacerun:yes'> </span>I found data in three columns<o:p></o:p></b></p>\n",
    "\n",
    "<p class=MsoListParagraphCxSpFirst style='margin-left:132.75pt;mso-add-space:\n",
    "auto;text-indent:-.25in;mso-list:l0 level1 lfo1'><![if !supportLists]><span\n",
    "style='mso-ascii-font-family:Calibri;mso-fareast-font-family:Calibri;\n",
    "mso-hansi-font-family:Calibri;mso-bidi-font-family:Calibri;mso-bidi-font-weight:\n",
    "bold'><span style='mso-list:Ignore'>-<span style='font:7.0pt \"Times New Roman\"'>&nbsp;&nbsp;&nbsp;&nbsp;&nbsp;&nbsp;&nbsp;&nbsp;&nbsp;\n",
    "</span></span></span><![endif]><span dir=LTR></span><b><span style='font-size:\n",
    "9.0pt;line-height:106%;font-family:\"Helvetica\",sans-serif;color:black;\n",
    "background:white'>budget</span><o:p></o:p></b></p>\n",
    "\n",
    "<p class=MsoListParagraphCxSpMiddle style='margin-left:132.75pt;mso-add-space:\n",
    "auto;text-indent:-.25in;mso-list:l0 level1 lfo1'><![if !supportLists]><span\n",
    "style='mso-ascii-font-family:Calibri;mso-fareast-font-family:Calibri;\n",
    "mso-hansi-font-family:Calibri;mso-bidi-font-family:Calibri;mso-bidi-font-weight:\n",
    "bold'><span style='mso-list:Ignore'>-<span style='font:7.0pt \"Times New Roman\"'>&nbsp;&nbsp;&nbsp;&nbsp;&nbsp;&nbsp;&nbsp;&nbsp;&nbsp;\n",
    "</span></span></span><![endif]><span dir=LTR></span><b><span style='font-size:\n",
    "9.0pt;line-height:106%;font-family:\"Helvetica\",sans-serif;color:black;\n",
    "background:white'>revenue</span><o:p></o:p></b></p>\n",
    "\n",
    "<p class=MsoListParagraphCxSpLast style='margin-left:132.75pt;mso-add-space:\n",
    "auto;text-indent:-.25in;mso-list:l0 level1 lfo1'><![if !supportLists]><span\n",
    "style='mso-ascii-font-family:Calibri;mso-fareast-font-family:Calibri;\n",
    "mso-hansi-font-family:Calibri;mso-bidi-font-family:Calibri;mso-bidi-font-weight:\n",
    "bold'><span style='mso-list:Ignore'>-<span style='font:7.0pt \"Times New Roman\"'>&nbsp;&nbsp;&nbsp;&nbsp;&nbsp;&nbsp;&nbsp;&nbsp;&nbsp;\n",
    "</span></span></span><![endif]><span dir=LTR></span><b><span style='font-size:\n",
    "9.0pt;line-height:106%;font-family:\"Helvetica\",sans-serif;color:black;\n",
    "background:white'>runtime</span></span><o:p></o:p></b></p>\n",
    "\n",
    "<p class=MsoNormal><b><span\n",
    "style='mso-spacerun:yes'>                                 </span>that I will\n",
    "check carefully …<o:p></o:p></b></p>\n",
    "\n",
    "</div>\n",
    "\n",
    "</body>\n",
    "\n",
    "</html>\n"
   ]
  },
  {
   "cell_type": "code",
   "execution_count": 5,
   "metadata": {},
   "outputs": [
    {
     "name": "stdout",
     "output_type": "stream",
     "text": [
      "<class 'pandas.core.frame.DataFrame'>\n",
      "RangeIndex: 10866 entries, 0 to 10865\n",
      "Data columns (total 21 columns):\n",
      " #   Column                Non-Null Count  Dtype  \n",
      "---  ------                --------------  -----  \n",
      " 0   id                    10866 non-null  int64  \n",
      " 1   imdb_id               10856 non-null  object \n",
      " 2   popularity            10866 non-null  float64\n",
      " 3   budget                10866 non-null  int64  \n",
      " 4   revenue               10866 non-null  int64  \n",
      " 5   original_title        10866 non-null  object \n",
      " 6   cast                  10790 non-null  object \n",
      " 7   homepage              2936 non-null   object \n",
      " 8   director              10822 non-null  object \n",
      " 9   tagline               8042 non-null   object \n",
      " 10  keywords              9373 non-null   object \n",
      " 11  overview              10862 non-null  object \n",
      " 12  runtime               10866 non-null  int64  \n",
      " 13  genres                10843 non-null  object \n",
      " 14  production_companies  9836 non-null   object \n",
      " 15  release_date          10866 non-null  object \n",
      " 16  vote_count            10866 non-null  int64  \n",
      " 17  vote_average          10866 non-null  float64\n",
      " 18  release_year          10866 non-null  int64  \n",
      " 19  budget_adj            10866 non-null  float64\n",
      " 20  revenue_adj           10866 non-null  float64\n",
      "dtypes: float64(4), int64(6), object(11)\n",
      "memory usage: 1.7+ MB\n"
     ]
    }
   ],
   "source": [
    "#identify total number for rows and columns with missing values for each column . and knowing the datatypes\n",
    "df.info()"
   ]
  },
  {
   "cell_type": "code",
   "execution_count": 6,
   "metadata": {
    "scrolled": true
   },
   "outputs": [
    {
     "data": {
      "text/plain": [
       "id                        int64\n",
       "imdb_id                  object\n",
       "popularity              float64\n",
       "budget                    int64\n",
       "revenue                   int64\n",
       "original_title           object\n",
       "cast                     object\n",
       "homepage                 object\n",
       "director                 object\n",
       "tagline                  object\n",
       "keywords                 object\n",
       "overview                 object\n",
       "runtime                   int64\n",
       "genres                   object\n",
       "production_companies     object\n",
       "release_date             object\n",
       "vote_count                int64\n",
       "vote_average            float64\n",
       "release_year              int64\n",
       "budget_adj              float64\n",
       "revenue_adj             float64\n",
       "dtype: object"
      ]
     },
     "execution_count": 6,
     "metadata": {},
     "output_type": "execute_result"
    }
   ],
   "source": [
    "#identify data type for each column in data set\n",
    "df.dtypes"
   ]
  },
  {
   "cell_type": "code",
   "execution_count": 7,
   "metadata": {
    "scrolled": true
   },
   "outputs": [
    {
     "data": {
      "text/plain": [
       "id                      10865\n",
       "imdb_id                 10855\n",
       "popularity              10814\n",
       "budget                    557\n",
       "revenue                  4702\n",
       "original_title          10571\n",
       "cast                    10719\n",
       "homepage                 2896\n",
       "director                 5067\n",
       "tagline                  7997\n",
       "keywords                 8804\n",
       "overview                10847\n",
       "runtime                   247\n",
       "genres                   2039\n",
       "production_companies     7445\n",
       "release_date             5909\n",
       "vote_count               1289\n",
       "vote_average               72\n",
       "release_year               56\n",
       "budget_adj               2614\n",
       "revenue_adj              4840\n",
       "dtype: int64"
      ]
     },
     "execution_count": 7,
     "metadata": {},
     "output_type": "execute_result"
    }
   ],
   "source": [
    "#number of unique values for each column in datase\n",
    "df.nunique()"
   ]
  },
  {
   "cell_type": "code",
   "execution_count": 8,
   "metadata": {},
   "outputs": [
    {
     "data": {
      "text/plain": [
       "0           5696\n",
       "20000000     190\n",
       "15000000     183\n",
       "25000000     178\n",
       "10000000     176\n",
       "            ... \n",
       "40000          1\n",
       "28             1\n",
       "68             1\n",
       "3500159        1\n",
       "19000          1\n",
       "Name: budget, Length: 557, dtype: int64"
      ]
     },
     "execution_count": 8,
     "metadata": {},
     "output_type": "execute_result"
    }
   ],
   "source": [
    "# check value counts for budget column\n",
    "df['budget'].value_counts()"
   ]
  },
  {
   "cell_type": "code",
   "execution_count": 9,
   "metadata": {},
   "outputs": [
    {
     "data": {
      "text/html": [
       "<div>\n",
       "<style scoped>\n",
       "    .dataframe tbody tr th:only-of-type {\n",
       "        vertical-align: middle;\n",
       "    }\n",
       "\n",
       "    .dataframe tbody tr th {\n",
       "        vertical-align: top;\n",
       "    }\n",
       "\n",
       "    .dataframe thead th {\n",
       "        text-align: right;\n",
       "    }\n",
       "</style>\n",
       "<table border=\"1\" class=\"dataframe\">\n",
       "  <thead>\n",
       "    <tr style=\"text-align: right;\">\n",
       "      <th></th>\n",
       "      <th>id</th>\n",
       "      <th>imdb_id</th>\n",
       "      <th>popularity</th>\n",
       "      <th>budget</th>\n",
       "      <th>revenue</th>\n",
       "      <th>original_title</th>\n",
       "      <th>cast</th>\n",
       "      <th>homepage</th>\n",
       "      <th>director</th>\n",
       "      <th>tagline</th>\n",
       "      <th>...</th>\n",
       "      <th>overview</th>\n",
       "      <th>runtime</th>\n",
       "      <th>genres</th>\n",
       "      <th>production_companies</th>\n",
       "      <th>release_date</th>\n",
       "      <th>vote_count</th>\n",
       "      <th>vote_average</th>\n",
       "      <th>release_year</th>\n",
       "      <th>budget_adj</th>\n",
       "      <th>revenue_adj</th>\n",
       "    </tr>\n",
       "  </thead>\n",
       "  <tbody>\n",
       "    <tr>\n",
       "      <th>18</th>\n",
       "      <td>150689</td>\n",
       "      <td>tt1661199</td>\n",
       "      <td>5.556818</td>\n",
       "      <td>95000000</td>\n",
       "      <td>542351353</td>\n",
       "      <td>Cinderella</td>\n",
       "      <td>Lily James|Cate Blanchett|Richard Madden|Helen...</td>\n",
       "      <td>NaN</td>\n",
       "      <td>Kenneth Branagh</td>\n",
       "      <td>Midnight is just the beginning.</td>\n",
       "      <td>...</td>\n",
       "      <td>When her father unexpectedly passes away, youn...</td>\n",
       "      <td>112</td>\n",
       "      <td>Romance|Fantasy|Family|Drama</td>\n",
       "      <td>Walt Disney Pictures|Genre Films|Beagle Pug Fi...</td>\n",
       "      <td>3/12/15</td>\n",
       "      <td>1495</td>\n",
       "      <td>6.8</td>\n",
       "      <td>2015</td>\n",
       "      <td>8.739996e+07</td>\n",
       "      <td>4.989630e+08</td>\n",
       "    </tr>\n",
       "    <tr>\n",
       "      <th>21</th>\n",
       "      <td>307081</td>\n",
       "      <td>tt1798684</td>\n",
       "      <td>5.337064</td>\n",
       "      <td>30000000</td>\n",
       "      <td>91709827</td>\n",
       "      <td>Southpaw</td>\n",
       "      <td>Jake Gyllenhaal|Rachel McAdams|Forest Whitaker...</td>\n",
       "      <td>NaN</td>\n",
       "      <td>Antoine Fuqua</td>\n",
       "      <td>Believe in Hope.</td>\n",
       "      <td>...</td>\n",
       "      <td>Billy \"The Great\" Hope, the reigning junior mi...</td>\n",
       "      <td>123</td>\n",
       "      <td>Action|Drama</td>\n",
       "      <td>Escape Artists|Riche-Ludwig Productions</td>\n",
       "      <td>6/15/15</td>\n",
       "      <td>1386</td>\n",
       "      <td>7.3</td>\n",
       "      <td>2015</td>\n",
       "      <td>2.759999e+07</td>\n",
       "      <td>8.437300e+07</td>\n",
       "    </tr>\n",
       "    <tr>\n",
       "      <th>26</th>\n",
       "      <td>214756</td>\n",
       "      <td>tt2637276</td>\n",
       "      <td>4.564549</td>\n",
       "      <td>68000000</td>\n",
       "      <td>215863606</td>\n",
       "      <td>Ted 2</td>\n",
       "      <td>Mark Wahlberg|Seth MacFarlane|Amanda Seyfried|...</td>\n",
       "      <td>NaN</td>\n",
       "      <td>Seth MacFarlane</td>\n",
       "      <td>Ted is Coming, Again.</td>\n",
       "      <td>...</td>\n",
       "      <td>Newlywed couple Ted and Tami-Lynn want to have...</td>\n",
       "      <td>115</td>\n",
       "      <td>Comedy</td>\n",
       "      <td>Universal Pictures|Media Rights Capital|Fuzzy ...</td>\n",
       "      <td>6/25/15</td>\n",
       "      <td>1666</td>\n",
       "      <td>6.3</td>\n",
       "      <td>2015</td>\n",
       "      <td>6.255997e+07</td>\n",
       "      <td>1.985944e+08</td>\n",
       "    </tr>\n",
       "    <tr>\n",
       "      <th>32</th>\n",
       "      <td>254470</td>\n",
       "      <td>tt2848292</td>\n",
       "      <td>3.877764</td>\n",
       "      <td>29000000</td>\n",
       "      <td>287506194</td>\n",
       "      <td>Pitch Perfect 2</td>\n",
       "      <td>Anna Kendrick|Rebel Wilson|Hailee Steinfeld|Br...</td>\n",
       "      <td>NaN</td>\n",
       "      <td>Elizabeth Banks</td>\n",
       "      <td>We're back pitches</td>\n",
       "      <td>...</td>\n",
       "      <td>The Bellas are back, and they are better than ...</td>\n",
       "      <td>115</td>\n",
       "      <td>Comedy|Music</td>\n",
       "      <td>Universal Pictures|Gold Circle Films|Brownston...</td>\n",
       "      <td>5/7/15</td>\n",
       "      <td>1264</td>\n",
       "      <td>6.8</td>\n",
       "      <td>2015</td>\n",
       "      <td>2.667999e+07</td>\n",
       "      <td>2.645056e+08</td>\n",
       "    </tr>\n",
       "    <tr>\n",
       "      <th>33</th>\n",
       "      <td>296098</td>\n",
       "      <td>tt3682448</td>\n",
       "      <td>3.648210</td>\n",
       "      <td>40000000</td>\n",
       "      <td>162610473</td>\n",
       "      <td>Bridge of Spies</td>\n",
       "      <td>Tom Hanks|Mark Rylance|Amy Ryan|Alan Alda|Seba...</td>\n",
       "      <td>NaN</td>\n",
       "      <td>Steven Spielberg</td>\n",
       "      <td>In the shadow of war, one man showed the world...</td>\n",
       "      <td>...</td>\n",
       "      <td>During the Cold War, the Soviet Union captures...</td>\n",
       "      <td>141</td>\n",
       "      <td>Thriller|Drama</td>\n",
       "      <td>DreamWorks SKG|Amblin Entertainment|Studio Bab...</td>\n",
       "      <td>10/15/15</td>\n",
       "      <td>1638</td>\n",
       "      <td>7.1</td>\n",
       "      <td>2015</td>\n",
       "      <td>3.679998e+07</td>\n",
       "      <td>1.496016e+08</td>\n",
       "    </tr>\n",
       "    <tr>\n",
       "      <th>...</th>\n",
       "      <td>...</td>\n",
       "      <td>...</td>\n",
       "      <td>...</td>\n",
       "      <td>...</td>\n",
       "      <td>...</td>\n",
       "      <td>...</td>\n",
       "      <td>...</td>\n",
       "      <td>...</td>\n",
       "      <td>...</td>\n",
       "      <td>...</td>\n",
       "      <td>...</td>\n",
       "      <td>...</td>\n",
       "      <td>...</td>\n",
       "      <td>...</td>\n",
       "      <td>...</td>\n",
       "      <td>...</td>\n",
       "      <td>...</td>\n",
       "      <td>...</td>\n",
       "      <td>...</td>\n",
       "      <td>...</td>\n",
       "      <td>...</td>\n",
       "    </tr>\n",
       "    <tr>\n",
       "      <th>10861</th>\n",
       "      <td>21</td>\n",
       "      <td>tt0060371</td>\n",
       "      <td>0.080598</td>\n",
       "      <td>0</td>\n",
       "      <td>0</td>\n",
       "      <td>The Endless Summer</td>\n",
       "      <td>Michael Hynson|Robert August|Lord 'Tally Ho' B...</td>\n",
       "      <td>NaN</td>\n",
       "      <td>Bruce Brown</td>\n",
       "      <td>NaN</td>\n",
       "      <td>...</td>\n",
       "      <td>The Endless Summer, by Bruce Brown, is one of ...</td>\n",
       "      <td>95</td>\n",
       "      <td>Documentary</td>\n",
       "      <td>Bruce Brown Films</td>\n",
       "      <td>6/15/66</td>\n",
       "      <td>11</td>\n",
       "      <td>7.4</td>\n",
       "      <td>1966</td>\n",
       "      <td>0.000000e+00</td>\n",
       "      <td>0.000000e+00</td>\n",
       "    </tr>\n",
       "    <tr>\n",
       "      <th>10862</th>\n",
       "      <td>20379</td>\n",
       "      <td>tt0060472</td>\n",
       "      <td>0.065543</td>\n",
       "      <td>0</td>\n",
       "      <td>0</td>\n",
       "      <td>Grand Prix</td>\n",
       "      <td>James Garner|Eva Marie Saint|Yves Montand|Tosh...</td>\n",
       "      <td>NaN</td>\n",
       "      <td>John Frankenheimer</td>\n",
       "      <td>Cinerama sweeps YOU into a drama of speed and ...</td>\n",
       "      <td>...</td>\n",
       "      <td>Grand Prix driver Pete Aron is fired by his te...</td>\n",
       "      <td>176</td>\n",
       "      <td>Action|Adventure|Drama</td>\n",
       "      <td>Cherokee Productions|Joel Productions|Douglas ...</td>\n",
       "      <td>12/21/66</td>\n",
       "      <td>20</td>\n",
       "      <td>5.7</td>\n",
       "      <td>1966</td>\n",
       "      <td>0.000000e+00</td>\n",
       "      <td>0.000000e+00</td>\n",
       "    </tr>\n",
       "    <tr>\n",
       "      <th>10863</th>\n",
       "      <td>39768</td>\n",
       "      <td>tt0060161</td>\n",
       "      <td>0.065141</td>\n",
       "      <td>0</td>\n",
       "      <td>0</td>\n",
       "      <td>Beregis Avtomobilya</td>\n",
       "      <td>Innokentiy Smoktunovskiy|Oleg Efremov|Georgi Z...</td>\n",
       "      <td>NaN</td>\n",
       "      <td>Eldar Ryazanov</td>\n",
       "      <td>NaN</td>\n",
       "      <td>...</td>\n",
       "      <td>An insurance agent who moonlights as a carthie...</td>\n",
       "      <td>94</td>\n",
       "      <td>Mystery|Comedy</td>\n",
       "      <td>Mosfilm</td>\n",
       "      <td>1/1/66</td>\n",
       "      <td>11</td>\n",
       "      <td>6.5</td>\n",
       "      <td>1966</td>\n",
       "      <td>0.000000e+00</td>\n",
       "      <td>0.000000e+00</td>\n",
       "    </tr>\n",
       "    <tr>\n",
       "      <th>10864</th>\n",
       "      <td>21449</td>\n",
       "      <td>tt0061177</td>\n",
       "      <td>0.064317</td>\n",
       "      <td>0</td>\n",
       "      <td>0</td>\n",
       "      <td>What's Up, Tiger Lily?</td>\n",
       "      <td>Tatsuya Mihashi|Akiko Wakabayashi|Mie Hama|Joh...</td>\n",
       "      <td>NaN</td>\n",
       "      <td>Woody Allen</td>\n",
       "      <td>WOODY ALLEN STRIKES BACK!</td>\n",
       "      <td>...</td>\n",
       "      <td>In comic Woody Allen's film debut, he took the...</td>\n",
       "      <td>80</td>\n",
       "      <td>Action|Comedy</td>\n",
       "      <td>Benedict Pictures Corp.</td>\n",
       "      <td>11/2/66</td>\n",
       "      <td>22</td>\n",
       "      <td>5.4</td>\n",
       "      <td>1966</td>\n",
       "      <td>0.000000e+00</td>\n",
       "      <td>0.000000e+00</td>\n",
       "    </tr>\n",
       "    <tr>\n",
       "      <th>10865</th>\n",
       "      <td>22293</td>\n",
       "      <td>tt0060666</td>\n",
       "      <td>0.035919</td>\n",
       "      <td>19000</td>\n",
       "      <td>0</td>\n",
       "      <td>Manos: The Hands of Fate</td>\n",
       "      <td>Harold P. Warren|Tom Neyman|John Reynolds|Dian...</td>\n",
       "      <td>NaN</td>\n",
       "      <td>Harold P. Warren</td>\n",
       "      <td>It's Shocking! It's Beyond Your Imagination!</td>\n",
       "      <td>...</td>\n",
       "      <td>A family gets lost on the road and stumbles up...</td>\n",
       "      <td>74</td>\n",
       "      <td>Horror</td>\n",
       "      <td>Norm-Iris</td>\n",
       "      <td>11/15/66</td>\n",
       "      <td>15</td>\n",
       "      <td>1.5</td>\n",
       "      <td>1966</td>\n",
       "      <td>1.276423e+05</td>\n",
       "      <td>0.000000e+00</td>\n",
       "    </tr>\n",
       "  </tbody>\n",
       "</table>\n",
       "<p>8874 rows × 21 columns</p>\n",
       "</div>"
      ],
      "text/plain": [
       "           id    imdb_id  popularity    budget    revenue  \\\n",
       "18     150689  tt1661199    5.556818  95000000  542351353   \n",
       "21     307081  tt1798684    5.337064  30000000   91709827   \n",
       "26     214756  tt2637276    4.564549  68000000  215863606   \n",
       "32     254470  tt2848292    3.877764  29000000  287506194   \n",
       "33     296098  tt3682448    3.648210  40000000  162610473   \n",
       "...       ...        ...         ...       ...        ...   \n",
       "10861      21  tt0060371    0.080598         0          0   \n",
       "10862   20379  tt0060472    0.065543         0          0   \n",
       "10863   39768  tt0060161    0.065141         0          0   \n",
       "10864   21449  tt0061177    0.064317         0          0   \n",
       "10865   22293  tt0060666    0.035919     19000          0   \n",
       "\n",
       "                 original_title  \\\n",
       "18                   Cinderella   \n",
       "21                     Southpaw   \n",
       "26                        Ted 2   \n",
       "32              Pitch Perfect 2   \n",
       "33              Bridge of Spies   \n",
       "...                         ...   \n",
       "10861        The Endless Summer   \n",
       "10862                Grand Prix   \n",
       "10863       Beregis Avtomobilya   \n",
       "10864    What's Up, Tiger Lily?   \n",
       "10865  Manos: The Hands of Fate   \n",
       "\n",
       "                                                    cast homepage  \\\n",
       "18     Lily James|Cate Blanchett|Richard Madden|Helen...      NaN   \n",
       "21     Jake Gyllenhaal|Rachel McAdams|Forest Whitaker...      NaN   \n",
       "26     Mark Wahlberg|Seth MacFarlane|Amanda Seyfried|...      NaN   \n",
       "32     Anna Kendrick|Rebel Wilson|Hailee Steinfeld|Br...      NaN   \n",
       "33     Tom Hanks|Mark Rylance|Amy Ryan|Alan Alda|Seba...      NaN   \n",
       "...                                                  ...      ...   \n",
       "10861  Michael Hynson|Robert August|Lord 'Tally Ho' B...      NaN   \n",
       "10862  James Garner|Eva Marie Saint|Yves Montand|Tosh...      NaN   \n",
       "10863  Innokentiy Smoktunovskiy|Oleg Efremov|Georgi Z...      NaN   \n",
       "10864  Tatsuya Mihashi|Akiko Wakabayashi|Mie Hama|Joh...      NaN   \n",
       "10865  Harold P. Warren|Tom Neyman|John Reynolds|Dian...      NaN   \n",
       "\n",
       "                 director                                            tagline  \\\n",
       "18        Kenneth Branagh                    Midnight is just the beginning.   \n",
       "21          Antoine Fuqua                                   Believe in Hope.   \n",
       "26        Seth MacFarlane                              Ted is Coming, Again.   \n",
       "32        Elizabeth Banks                                 We're back pitches   \n",
       "33       Steven Spielberg  In the shadow of war, one man showed the world...   \n",
       "...                   ...                                                ...   \n",
       "10861         Bruce Brown                                                NaN   \n",
       "10862  John Frankenheimer  Cinerama sweeps YOU into a drama of speed and ...   \n",
       "10863      Eldar Ryazanov                                                NaN   \n",
       "10864         Woody Allen                          WOODY ALLEN STRIKES BACK!   \n",
       "10865    Harold P. Warren       It's Shocking! It's Beyond Your Imagination!   \n",
       "\n",
       "       ...                                           overview runtime  \\\n",
       "18     ...  When her father unexpectedly passes away, youn...     112   \n",
       "21     ...  Billy \"The Great\" Hope, the reigning junior mi...     123   \n",
       "26     ...  Newlywed couple Ted and Tami-Lynn want to have...     115   \n",
       "32     ...  The Bellas are back, and they are better than ...     115   \n",
       "33     ...  During the Cold War, the Soviet Union captures...     141   \n",
       "...    ...                                                ...     ...   \n",
       "10861  ...  The Endless Summer, by Bruce Brown, is one of ...      95   \n",
       "10862  ...  Grand Prix driver Pete Aron is fired by his te...     176   \n",
       "10863  ...  An insurance agent who moonlights as a carthie...      94   \n",
       "10864  ...  In comic Woody Allen's film debut, he took the...      80   \n",
       "10865  ...  A family gets lost on the road and stumbles up...      74   \n",
       "\n",
       "                             genres  \\\n",
       "18     Romance|Fantasy|Family|Drama   \n",
       "21                     Action|Drama   \n",
       "26                           Comedy   \n",
       "32                     Comedy|Music   \n",
       "33                   Thriller|Drama   \n",
       "...                             ...   \n",
       "10861                   Documentary   \n",
       "10862        Action|Adventure|Drama   \n",
       "10863                Mystery|Comedy   \n",
       "10864                 Action|Comedy   \n",
       "10865                        Horror   \n",
       "\n",
       "                                    production_companies release_date  \\\n",
       "18     Walt Disney Pictures|Genre Films|Beagle Pug Fi...      3/12/15   \n",
       "21               Escape Artists|Riche-Ludwig Productions      6/15/15   \n",
       "26     Universal Pictures|Media Rights Capital|Fuzzy ...      6/25/15   \n",
       "32     Universal Pictures|Gold Circle Films|Brownston...       5/7/15   \n",
       "33     DreamWorks SKG|Amblin Entertainment|Studio Bab...     10/15/15   \n",
       "...                                                  ...          ...   \n",
       "10861                                  Bruce Brown Films      6/15/66   \n",
       "10862  Cherokee Productions|Joel Productions|Douglas ...     12/21/66   \n",
       "10863                                            Mosfilm       1/1/66   \n",
       "10864                            Benedict Pictures Corp.      11/2/66   \n",
       "10865                                          Norm-Iris     11/15/66   \n",
       "\n",
       "      vote_count  vote_average  release_year    budget_adj   revenue_adj  \n",
       "18          1495           6.8          2015  8.739996e+07  4.989630e+08  \n",
       "21          1386           7.3          2015  2.759999e+07  8.437300e+07  \n",
       "26          1666           6.3          2015  6.255997e+07  1.985944e+08  \n",
       "32          1264           6.8          2015  2.667999e+07  2.645056e+08  \n",
       "33          1638           7.1          2015  3.679998e+07  1.496016e+08  \n",
       "...          ...           ...           ...           ...           ...  \n",
       "10861         11           7.4          1966  0.000000e+00  0.000000e+00  \n",
       "10862         20           5.7          1966  0.000000e+00  0.000000e+00  \n",
       "10863         11           6.5          1966  0.000000e+00  0.000000e+00  \n",
       "10864         22           5.4          1966  0.000000e+00  0.000000e+00  \n",
       "10865         15           1.5          1966  1.276423e+05  0.000000e+00  \n",
       "\n",
       "[8874 rows x 21 columns]"
      ]
     },
     "execution_count": 9,
     "metadata": {},
     "output_type": "execute_result"
    }
   ],
   "source": [
    "#Display rows with one or more NaN values in dataset\n",
    "null_data = df[df.isna().any(axis=1)]\n",
    " \n",
    "null_data"
   ]
  },
  {
   "cell_type": "code",
   "execution_count": 10,
   "metadata": {},
   "outputs": [
    {
     "name": "stdout",
     "output_type": "stream",
     "text": [
      "Number of zero data contained by revenue columns  :  6016\n"
     ]
    }
   ],
   "source": [
    "#count number of zero in revenue columns\n",
    "count_rev = (df['revenue'] == 0).sum()\n",
    "print('Number of zero data contained by revenue columns  : ',count_rev)\n",
    "\n"
   ]
  },
  {
   "cell_type": "code",
   "execution_count": 11,
   "metadata": {},
   "outputs": [
    {
     "name": "stdout",
     "output_type": "stream",
     "text": [
      "Number of zero data contained by budget columns  :  5696\n"
     ]
    }
   ],
   "source": [
    "#count number of zero in budget columns\n",
    "count_budg = (df['budget'] == 0).sum()\n",
    "print('Number of zero data contained by budget columns  : ',count_budg)"
   ]
  },
  {
   "cell_type": "markdown",
   "metadata": {},
   "source": [
    "</head>\n",
    "\n",
    "<body lang=EN-US style='tab-interval:.5in;word-wrap:break-word'>\n",
    "\n",
    "<div class=WordSection1>\n",
    "\n",
    "<p class=MsoNormal><b><span style='font-size:16.0pt;line-height:107%;\n",
    "color:#323E4F;mso-themecolor:text2;mso-themeshade:191'>To eliminate repeated\n",
    "check for zeros in all columns I will use loop to identify for each column <o:p></o:p></span></b></p>\n",
    "\n",
    "</div>\n",
    "\n",
    "</body>\n",
    "\n",
    "</html>"
   ]
  },
  {
   "cell_type": "code",
   "execution_count": 12,
   "metadata": {},
   "outputs": [
    {
     "name": "stdout",
     "output_type": "stream",
     "text": [
      "Count of zeros in column  id  is :  0\n",
      "Count of zeros in column  imdb_id  is :  0\n",
      "Count of zeros in column  popularity  is :  0\n",
      "Count of zeros in column  budget  is :  5696\n",
      "Count of zeros in column  revenue  is :  6016\n",
      "Count of zeros in column  original_title  is :  0\n",
      "Count of zeros in column  cast  is :  0\n",
      "Count of zeros in column  homepage  is :  0\n",
      "Count of zeros in column  director  is :  0\n",
      "Count of zeros in column  tagline  is :  0\n",
      "Count of zeros in column  keywords  is :  0\n",
      "Count of zeros in column  overview  is :  0\n",
      "Count of zeros in column  runtime  is :  31\n",
      "Count of zeros in column  genres  is :  0\n",
      "Count of zeros in column  production_companies  is :  0\n",
      "Count of zeros in column  release_date  is :  0\n",
      "Count of zeros in column  vote_count  is :  0\n",
      "Count of zeros in column  vote_average  is :  0\n",
      "Count of zeros in column  release_year  is :  0\n",
      "Count of zeros in column  budget_adj  is :  5696\n",
      "Count of zeros in column  revenue_adj  is :  6016\n"
     ]
    }
   ],
   "source": [
    "#  Count number of zeros in all columns of Dataframe\n",
    "for column_name in df.columns:\n",
    "    column = df[column_name]\n",
    "    # Get the count of Zeros in column \n",
    "    count = (column == 0).sum()\n",
    "    print('Count of zeros in column ', column_name, ' is : ', count)"
   ]
  },
  {
   "cell_type": "markdown",
   "metadata": {},
   "source": [
    "#### Result appears some columns contain value of zero like budget,revenue,runtime,budget_adj,revenue_adj"
   ]
  },
  {
   "cell_type": "code",
   "execution_count": 13,
   "metadata": {},
   "outputs": [
    {
     "data": {
      "text/plain": [
       "id                         0\n",
       "imdb_id                   10\n",
       "popularity                 0\n",
       "budget                     0\n",
       "revenue                    0\n",
       "original_title             0\n",
       "cast                      76\n",
       "homepage                7930\n",
       "director                  44\n",
       "tagline                 2824\n",
       "keywords                1493\n",
       "overview                   4\n",
       "runtime                    0\n",
       "genres                    23\n",
       "production_companies    1030\n",
       "release_date               0\n",
       "vote_count                 0\n",
       "vote_average               0\n",
       "release_year               0\n",
       "budget_adj                 0\n",
       "revenue_adj                0\n",
       "dtype: int64"
      ]
     },
     "execution_count": 13,
     "metadata": {},
     "output_type": "execute_result"
    }
   ],
   "source": [
    "#features with missing values>>> this very important to decide what columns will drop and columns will clean from null values\n",
    "df.isnull().sum()"
   ]
  },
  {
   "cell_type": "markdown",
   "metadata": {},
   "source": [
    "### Drop Extraneous Columns\n",
    ">  after assesing Data I found there are more than columns must be drop the data:\n",
    "  ####  imdb_id,homepage,tagline,keywords,overview,production_companies,budget_adj,revenue_adj\n",
    "\n"
   ]
  },
  {
   "cell_type": "code",
   "execution_count": 14,
   "metadata": {},
   "outputs": [],
   "source": [
    "drop_list=['imdb_id', 'homepage', 'tagline', 'keywords','overview','production_companies','budget_adj','revenue_adj']\n",
    "df.drop(drop_list, axis=1, inplace=True)"
   ]
  },
  {
   "cell_type": "code",
   "execution_count": 15,
   "metadata": {},
   "outputs": [
    {
     "data": {
      "text/plain": [
       "(10866, 13)"
      ]
     },
     "execution_count": 15,
     "metadata": {},
     "output_type": "execute_result"
    }
   ],
   "source": [
    "df.shape"
   ]
  },
  {
   "cell_type": "markdown",
   "metadata": {},
   "source": [
    "#### after drop the columns and check the shape of dataset i found dataset appear to has 13 columns and 10866 rows"
   ]
  },
  {
   "cell_type": "markdown",
   "metadata": {},
   "source": [
    "### Data Cleaning ....there are observation during assising data like below:\n",
    " #### After drop all columns that not related to dataset so i will check the data again to make full clean.\n",
    " > - check about duplicates if exit i will drop it.\n",
    " > - check zero values in three columns (budget,revenue and revenue)\n",
    " > - need to replces zero values in these columns \n",
    " > - check null values and drop from dataset\n",
    " > - change datatypes for culomns (budget,revenue and revenue)\n",
    " > - replace data in genres column with the first occurrencs of data to identify accuracy data"
   ]
  },
  {
   "cell_type": "code",
   "execution_count": 16,
   "metadata": {},
   "outputs": [
    {
     "name": "stdout",
     "output_type": "stream",
     "text": [
      "<class 'pandas.core.frame.DataFrame'>\n",
      "RangeIndex: 10866 entries, 0 to 10865\n",
      "Data columns (total 13 columns):\n",
      " #   Column          Non-Null Count  Dtype  \n",
      "---  ------          --------------  -----  \n",
      " 0   id              10866 non-null  int64  \n",
      " 1   popularity      10866 non-null  float64\n",
      " 2   budget          10866 non-null  int64  \n",
      " 3   revenue         10866 non-null  int64  \n",
      " 4   original_title  10866 non-null  object \n",
      " 5   cast            10790 non-null  object \n",
      " 6   director        10822 non-null  object \n",
      " 7   runtime         10866 non-null  int64  \n",
      " 8   genres          10843 non-null  object \n",
      " 9   release_date    10866 non-null  object \n",
      " 10  vote_count      10866 non-null  int64  \n",
      " 11  vote_average    10866 non-null  float64\n",
      " 12  release_year    10866 non-null  int64  \n",
      "dtypes: float64(2), int64(6), object(5)\n",
      "memory usage: 1.1+ MB\n"
     ]
    }
   ],
   "source": [
    "# After discussing the structure of the data and any problems that need to be\n",
    "#   cleaned, perform those cleaning steps in the second part of this section.\n",
    "df.info()"
   ]
  },
  {
   "cell_type": "code",
   "execution_count": 17,
   "metadata": {},
   "outputs": [
    {
     "data": {
      "text/plain": [
       "id                 0\n",
       "popularity         0\n",
       "budget             0\n",
       "revenue            0\n",
       "original_title     0\n",
       "cast              76\n",
       "director          44\n",
       "runtime            0\n",
       "genres            23\n",
       "release_date       0\n",
       "vote_count         0\n",
       "vote_average       0\n",
       "release_year       0\n",
       "dtype: int64"
      ]
     },
     "execution_count": 17,
     "metadata": {},
     "output_type": "execute_result"
    }
   ],
   "source": [
    "#features with missing values>>> this very important to decide what columns will drop \n",
    "df.isnull().sum()"
   ]
  },
  {
   "cell_type": "code",
   "execution_count": 18,
   "metadata": {
    "scrolled": true
   },
   "outputs": [
    {
     "name": "stdout",
     "output_type": "stream",
     "text": [
      "number of duplicates exist in dataset is :  1\n"
     ]
    }
   ],
   "source": [
    "# print number of duplicates in datasets\n",
    "print('number of duplicates exist in dataset is : ',df.duplicated().sum())"
   ]
  },
  {
   "cell_type": "code",
   "execution_count": 19,
   "metadata": {},
   "outputs": [],
   "source": [
    "# drop duplicates in dataset\n",
    "df.drop_duplicates(inplace=True)"
   ]
  },
  {
   "cell_type": "code",
   "execution_count": 20,
   "metadata": {},
   "outputs": [
    {
     "name": "stdout",
     "output_type": "stream",
     "text": [
      "number of duplicates exist in dataset is :  0\n"
     ]
    }
   ],
   "source": [
    "# print number of duplicates again to confirm dedupe - should both be 0\n",
    "print('number of duplicates exist in dataset is : ',df.duplicated().sum())"
   ]
  },
  {
   "cell_type": "markdown",
   "metadata": {},
   "source": [
    "##### after check data and drop duplicates i will replcae value of  0 from dataset with three columns:\n",
    " ##### -budget\n",
    " ##### -revenue\n",
    " ##### -runtime"
   ]
  },
  {
   "cell_type": "code",
   "execution_count": 21,
   "metadata": {},
   "outputs": [],
   "source": [
    "#list of three columns that will replace its zero values with mean\n",
    "list_zero=['budget','revenue','runtime']\n",
    "for c in list_zero:\n",
    "    df[c]=df[c].replace(0,df[c].mean())"
   ]
  },
  {
   "cell_type": "code",
   "execution_count": 22,
   "metadata": {},
   "outputs": [
    {
     "name": "stdout",
     "output_type": "stream",
     "text": [
      "Count of zeros in column  id  is :  0\n",
      "Count of zeros in column  popularity  is :  0\n",
      "Count of zeros in column  budget  is :  0\n",
      "Count of zeros in column  revenue  is :  0\n",
      "Count of zeros in column  original_title  is :  0\n",
      "Count of zeros in column  cast  is :  0\n",
      "Count of zeros in column  director  is :  0\n",
      "Count of zeros in column  runtime  is :  0\n",
      "Count of zeros in column  genres  is :  0\n",
      "Count of zeros in column  release_date  is :  0\n",
      "Count of zeros in column  vote_count  is :  0\n",
      "Count of zeros in column  vote_average  is :  0\n",
      "Count of zeros in column  release_year  is :  0\n"
     ]
    }
   ],
   "source": [
    "# check again if Count number of zeros in all columns of Dataframe\n",
    "for column_name in df.columns:\n",
    "    column = df[column_name]\n",
    "    # Get the count of Zeros in column \n",
    "    count = (column == 0).sum()\n",
    "    print('Count of zeros in column ', column_name, ' is : ', count)"
   ]
  },
  {
   "cell_type": "code",
   "execution_count": 23,
   "metadata": {},
   "outputs": [
    {
     "name": "stdout",
     "output_type": "stream",
     "text": [
      "<class 'pandas.core.frame.DataFrame'>\n",
      "Int64Index: 10865 entries, 0 to 10865\n",
      "Data columns (total 13 columns):\n",
      " #   Column          Non-Null Count  Dtype  \n",
      "---  ------          --------------  -----  \n",
      " 0   id              10865 non-null  int64  \n",
      " 1   popularity      10865 non-null  float64\n",
      " 2   budget          10865 non-null  float64\n",
      " 3   revenue         10865 non-null  float64\n",
      " 4   original_title  10865 non-null  object \n",
      " 5   cast            10789 non-null  object \n",
      " 6   director        10821 non-null  object \n",
      " 7   runtime         10865 non-null  float64\n",
      " 8   genres          10842 non-null  object \n",
      " 9   release_date    10865 non-null  object \n",
      " 10  vote_count      10865 non-null  int64  \n",
      " 11  vote_average    10865 non-null  float64\n",
      " 12  release_year    10865 non-null  int64  \n",
      "dtypes: float64(5), int64(3), object(5)\n",
      "memory usage: 1.2+ MB\n"
     ]
    }
   ],
   "source": [
    "df.info()"
   ]
  },
  {
   "cell_type": "markdown",
   "metadata": {},
   "source": [
    "### opps.... i observe datatypes for three columns changed to float so i will change datatypes for columns .. but first check for null valus and drop it."
   ]
  },
  {
   "cell_type": "code",
   "execution_count": 24,
   "metadata": {},
   "outputs": [
    {
     "data": {
      "text/plain": [
       "id                 0\n",
       "popularity         0\n",
       "budget             0\n",
       "revenue            0\n",
       "original_title     0\n",
       "cast              76\n",
       "director          44\n",
       "runtime            0\n",
       "genres            23\n",
       "release_date       0\n",
       "vote_count         0\n",
       "vote_average       0\n",
       "release_year       0\n",
       "dtype: int64"
      ]
     },
     "execution_count": 24,
     "metadata": {},
     "output_type": "execute_result"
    }
   ],
   "source": [
    "#again i will check for null values\n",
    "df.isnull().sum()"
   ]
  },
  {
   "cell_type": "markdown",
   "metadata": {},
   "source": [
    "#### Drop null values and check agian if exist"
   ]
  },
  {
   "cell_type": "code",
   "execution_count": 25,
   "metadata": {},
   "outputs": [
    {
     "name": "stdout",
     "output_type": "stream",
     "text": [
      "id                0\n",
      "popularity        0\n",
      "budget            0\n",
      "revenue           0\n",
      "original_title    0\n",
      "cast              0\n",
      "director          0\n",
      "runtime           0\n",
      "genres            0\n",
      "release_date      0\n",
      "vote_count        0\n",
      "vote_average      0\n",
      "release_year      0\n",
      "dtype: int64\n"
     ]
    }
   ],
   "source": [
    "# drop rows with any null values in dataset\n",
    "df.dropna(inplace=True) \n",
    "\n",
    "#check for null values again to insure..\n",
    "print(df.isnull().sum())"
   ]
  },
  {
   "cell_type": "code",
   "execution_count": 26,
   "metadata": {},
   "outputs": [
    {
     "data": {
      "text/plain": [
       "(10731, 13)"
      ]
     },
     "execution_count": 26,
     "metadata": {},
     "output_type": "execute_result"
    }
   ],
   "source": [
    "df.shape"
   ]
  },
  {
   "cell_type": "markdown",
   "metadata": {},
   "source": [
    "#### after drop nulls vlaues the dataset contain 10731 rows and 13 columns"
   ]
  },
  {
   "cell_type": "markdown",
   "metadata": {},
   "source": [
    "### change datatypes for culoms to int datatype"
   ]
  },
  {
   "cell_type": "code",
   "execution_count": 27,
   "metadata": {},
   "outputs": [],
   "source": [
    "#list of columns that will change datatypes\n",
    "list_type=['budget','revenue','runtime']\n",
    "# convert datatype for budget,revenue and runtime columns to int\n",
    "for c in list_type:\n",
    "    df[c] = df[c].astype(int)"
   ]
  },
  {
   "cell_type": "code",
   "execution_count": 28,
   "metadata": {},
   "outputs": [
    {
     "name": "stdout",
     "output_type": "stream",
     "text": [
      "<class 'pandas.core.frame.DataFrame'>\n",
      "Int64Index: 10731 entries, 0 to 10865\n",
      "Data columns (total 13 columns):\n",
      " #   Column          Non-Null Count  Dtype  \n",
      "---  ------          --------------  -----  \n",
      " 0   id              10731 non-null  int64  \n",
      " 1   popularity      10731 non-null  float64\n",
      " 2   budget          10731 non-null  int32  \n",
      " 3   revenue         10731 non-null  int32  \n",
      " 4   original_title  10731 non-null  object \n",
      " 5   cast            10731 non-null  object \n",
      " 6   director        10731 non-null  object \n",
      " 7   runtime         10731 non-null  int32  \n",
      " 8   genres          10731 non-null  object \n",
      " 9   release_date    10731 non-null  object \n",
      " 10  vote_count      10731 non-null  int64  \n",
      " 11  vote_average    10731 non-null  float64\n",
      " 12  release_year    10731 non-null  int64  \n",
      "dtypes: float64(2), int32(3), int64(3), object(5)\n",
      "memory usage: 1.0+ MB\n"
     ]
    }
   ],
   "source": [
    "df.info()"
   ]
  },
  {
   "cell_type": "code",
   "execution_count": 29,
   "metadata": {},
   "outputs": [
    {
     "data": {
      "image/png": "[encoded data removed]",
      "text/plain": [
       "<Figure size 1080x1080 with 9 Axes>"
      ]
     },
     "metadata": {
      "needs_background": "light"
     },
     "output_type": "display_data"
    }
   ],
   "source": [
    "df.hist(figsize= (15,15));"
   ]
  },
  {
   "cell_type": "code",
   "execution_count": 30,
   "metadata": {},
   "outputs": [],
   "source": [
    "# replace value in geners with the first occurrence\n",
    "df['genres'] = df['genres'].apply(lambda x: x.split(\"|\")[0])"
   ]
  },
  {
   "cell_type": "markdown",
   "metadata": {},
   "source": [
    "#### replace data in genres column with the first occurrencs of data to identify accuracy data"
   ]
  },
  {
   "cell_type": "code",
   "execution_count": 31,
   "metadata": {},
   "outputs": [
    {
     "data": {
      "text/html": [
       "<div>\n",
       "<style scoped>\n",
       "    .dataframe tbody tr th:only-of-type {\n",
       "        vertical-align: middle;\n",
       "    }\n",
       "\n",
       "    .dataframe tbody tr th {\n",
       "        vertical-align: top;\n",
       "    }\n",
       "\n",
       "    .dataframe thead th {\n",
       "        text-align: right;\n",
       "    }\n",
       "</style>\n",
       "<table border=\"1\" class=\"dataframe\">\n",
       "  <thead>\n",
       "    <tr style=\"text-align: right;\">\n",
       "      <th></th>\n",
       "      <th>id</th>\n",
       "      <th>popularity</th>\n",
       "      <th>budget</th>\n",
       "      <th>revenue</th>\n",
       "      <th>original_title</th>\n",
       "      <th>cast</th>\n",
       "      <th>director</th>\n",
       "      <th>runtime</th>\n",
       "      <th>genres</th>\n",
       "      <th>release_date</th>\n",
       "      <th>vote_count</th>\n",
       "      <th>vote_average</th>\n",
       "      <th>release_year</th>\n",
       "    </tr>\n",
       "  </thead>\n",
       "  <tbody>\n",
       "    <tr>\n",
       "      <th>0</th>\n",
       "      <td>135397</td>\n",
       "      <td>32.985763</td>\n",
       "      <td>150000000</td>\n",
       "      <td>1513528810</td>\n",
       "      <td>Jurassic World</td>\n",
       "      <td>Chris Pratt|Bryce Dallas Howard|Irrfan Khan|Vi...</td>\n",
       "      <td>Colin Trevorrow</td>\n",
       "      <td>124</td>\n",
       "      <td>Action</td>\n",
       "      <td>6/9/15</td>\n",
       "      <td>5562</td>\n",
       "      <td>6.5</td>\n",
       "      <td>2015</td>\n",
       "    </tr>\n",
       "    <tr>\n",
       "      <th>1</th>\n",
       "      <td>76341</td>\n",
       "      <td>28.419936</td>\n",
       "      <td>150000000</td>\n",
       "      <td>378436354</td>\n",
       "      <td>Mad Max: Fury Road</td>\n",
       "      <td>Tom Hardy|Charlize Theron|Hugh Keays-Byrne|Nic...</td>\n",
       "      <td>George Miller</td>\n",
       "      <td>120</td>\n",
       "      <td>Action</td>\n",
       "      <td>5/13/15</td>\n",
       "      <td>6185</td>\n",
       "      <td>7.1</td>\n",
       "      <td>2015</td>\n",
       "    </tr>\n",
       "    <tr>\n",
       "      <th>2</th>\n",
       "      <td>262500</td>\n",
       "      <td>13.112507</td>\n",
       "      <td>110000000</td>\n",
       "      <td>295238201</td>\n",
       "      <td>Insurgent</td>\n",
       "      <td>Shailene Woodley|Theo James|Kate Winslet|Ansel...</td>\n",
       "      <td>Robert Schwentke</td>\n",
       "      <td>119</td>\n",
       "      <td>Adventure</td>\n",
       "      <td>3/18/15</td>\n",
       "      <td>2480</td>\n",
       "      <td>6.3</td>\n",
       "      <td>2015</td>\n",
       "    </tr>\n",
       "  </tbody>\n",
       "</table>\n",
       "</div>"
      ],
      "text/plain": [
       "       id  popularity     budget     revenue      original_title  \\\n",
       "0  135397   32.985763  150000000  1513528810      Jurassic World   \n",
       "1   76341   28.419936  150000000   378436354  Mad Max: Fury Road   \n",
       "2  262500   13.112507  110000000   295238201           Insurgent   \n",
       "\n",
       "                                                cast          director  \\\n",
       "0  Chris Pratt|Bryce Dallas Howard|Irrfan Khan|Vi...   Colin Trevorrow   \n",
       "1  Tom Hardy|Charlize Theron|Hugh Keays-Byrne|Nic...     George Miller   \n",
       "2  Shailene Woodley|Theo James|Kate Winslet|Ansel...  Robert Schwentke   \n",
       "\n",
       "   runtime     genres release_date  vote_count  vote_average  release_year  \n",
       "0      124     Action       6/9/15        5562           6.5          2015  \n",
       "1      120     Action      5/13/15        6185           7.1          2015  \n",
       "2      119  Adventure      3/18/15        2480           6.3          2015  "
      ]
     },
     "execution_count": 31,
     "metadata": {},
     "output_type": "execute_result"
    }
   ],
   "source": [
    "#check data after replacmen in genres by print first three columns\n",
    "df.head(3)"
   ]
  },
  {
   "cell_type": "markdown",
   "metadata": {},
   "source": [
    "<a id='eda'></a>\n",
    "## Exploratory Data Analysis\n",
    "\n",
    "> **Tip**: Now that you've trimmed and cleaned your data, you're ready to move on to exploration. Compute statistics and create visualizations with the goal of addressing the research questions that you posed in the Introduction section. It is recommended that you be systematic with your approach. Look at one variable at a time, and then follow it up by looking at relationships between variables.\n",
    "\n",
    "### Research Question 1: Which genres are most popular from year to year?"
   ]
  },
  {
   "cell_type": "code",
   "execution_count": 49,
   "metadata": {},
   "outputs": [],
   "source": [
    "def myGraPplot(df,grpVar,yVar,stat='mean',figsize=[14,6],color='steelblue'):\n",
    "    \"\"\"\n",
    "    Docstring: function to make groupby for culomns with mean for another and plot the result.\n",
    "    Args: \n",
    "        df,grpVar,yVar,stat,figsize,color\n",
    "    Returns:\n",
    "        data \n",
    "    \"\"\"\n",
    "    #data prepration\n",
    "    data=df.groupby([grpVar])[yVar].agg(stat)\n",
    "    #plot\n",
    "    data.plot.bar(edgecolor='black',figsize=figsize,rot=0,width=0.8,color=color);\n",
    "    #add title and format it\n",
    "    plt.title(f'{stat} of {yVar} by {grpVar}'.title(),fontsize = 19, weight=\"bold\")\n",
    "    #add x label and format it\n",
    "    plt.xlabel(grpVar.title(),fontsize=19,weight=\"bold\")\n",
    "    #add y label and format it\n",
    "    plt.ylabel(f'{stat} {yVar}'.title(),fontsize=19,weight=\"bold\")\n",
    "    sns.set_style(\"darkgrid\")\n",
    "    plt.legend();\n",
    "    return data"
   ]
  },
  {
   "cell_type": "code",
   "execution_count": 50,
   "metadata": {},
   "outputs": [
    {
     "data": {
      "image/png": "[encoded data removed]",
      "text/plain": [
       "<Figure size 1728x720 with 1 Axes>"
      ]
     },
     "metadata": {},
     "output_type": "display_data"
    }
   ],
   "source": [
    "genres_of_popular=myGraPplot(df,'genres','popularity',figsize=[24,10])"
   ]
  },
  {
   "cell_type": "code",
   "execution_count": 51,
   "metadata": {},
   "outputs": [
    {
     "data": {
      "text/plain": [
       "genres\n",
       "Action             0.837782\n",
       "Adventure          1.219834\n",
       "Animation          0.853208\n",
       "Comedy             0.538260\n",
       "Crime              0.694063\n",
       "Documentary        0.184773\n",
       "Drama              0.554173\n",
       "Family             0.739779\n",
       "Fantasy            0.868512\n",
       "Foreign            0.178917\n",
       "History            0.764636\n",
       "Horror             0.468638\n",
       "Music              0.462125\n",
       "Mystery            0.596896\n",
       "Romance            0.707231\n",
       "Science Fiction    1.087261\n",
       "TV Movie           0.245873\n",
       "Thriller           0.673381\n",
       "War                0.777887\n",
       "Western            0.690646\n",
       "Name: popularity, dtype: float64"
      ]
     },
     "execution_count": 51,
     "metadata": {},
     "output_type": "execute_result"
    }
   ],
   "source": [
    "genres_of_popular"
   ]
  },
  {
   "cell_type": "markdown",
   "metadata": {},
   "source": [
    "### after make visualization the genres most popular is : Adventure movies"
   ]
  },
  {
   "cell_type": "markdown",
   "metadata": {},
   "source": [
    "### Research Question 2: Which genres has the highest and lowest budget from year to year?"
   ]
  },
  {
   "cell_type": "code",
   "execution_count": 52,
   "metadata": {},
   "outputs": [
    {
     "data": {
      "image/png": "[encoded data removed]",
      "text/plain": [
       "<Figure size 1728x720 with 1 Axes>"
      ]
     },
     "metadata": {},
     "output_type": "display_data"
    }
   ],
   "source": [
    "genres_of_budget= myGraPplot(df,'genres','budget',figsize=[24,10],color='red')"
   ]
  },
  {
   "cell_type": "code",
   "execution_count": 36,
   "metadata": {},
   "outputs": [
    {
     "data": {
      "text/plain": [
       "genres\n",
       "Action             3.078424e+07\n",
       "Adventure          4.582701e+07\n",
       "Animation          3.229418e+07\n",
       "Comedy             1.846687e+07\n",
       "Crime              1.939363e+07\n",
       "Documentary        1.335289e+07\n",
       "Drama              1.793335e+07\n",
       "Family             2.805157e+07\n",
       "Fantasy            3.065852e+07\n",
       "Foreign            1.462429e+07\n",
       "History            2.324667e+07\n",
       "Horror             1.301563e+07\n",
       "Music              1.994826e+07\n",
       "Mystery            1.841293e+07\n",
       "Romance            1.925498e+07\n",
       "Science Fiction    3.177570e+07\n",
       "TV Movie           1.389967e+07\n",
       "Thriller           2.004800e+07\n",
       "War                3.104419e+07\n",
       "Western            2.648094e+07\n",
       "Name: budget, dtype: float64"
      ]
     },
     "execution_count": 36,
     "metadata": {},
     "output_type": "execute_result"
    }
   ],
   "source": [
    "genres_of_budget"
   ]
  },
  {
   "cell_type": "markdown",
   "metadata": {},
   "source": [
    "### after make visualization \n",
    "####  genres has highest budget is : Adventure movies\n",
    "#### genres has lowest budget is : Horror movies"
   ]
  },
  {
   "cell_type": "markdown",
   "metadata": {},
   "source": [
    "### Research Question 3 : Which year has the highest release of movies?"
   ]
  },
  {
   "cell_type": "code",
   "execution_count": 37,
   "metadata": {},
   "outputs": [
    {
     "name": "stdout",
     "output_type": "stream",
     "text": [
      "release_year\n",
      "1960     32\n",
      "1961     31\n",
      "1962     32\n",
      "1963     34\n",
      "1964     42\n",
      "1965     35\n",
      "1966     46\n",
      "1967     38\n",
      "1968     38\n",
      "1969     30\n",
      "1970     40\n",
      "1971     55\n",
      "1972     40\n",
      "1973     55\n",
      "1974     46\n",
      "1975     44\n",
      "1976     47\n",
      "1977     56\n",
      "1978     65\n",
      "1979     57\n",
      "1980     78\n",
      "1981     82\n",
      "1982     81\n",
      "1983     80\n",
      "1984    104\n",
      "1985    108\n",
      "1986    120\n",
      "1987    124\n",
      "1988    142\n",
      "1989    135\n",
      "1990    132\n",
      "1991    133\n",
      "1992    132\n",
      "1993    177\n",
      "1994    184\n",
      "1995    174\n",
      "1996    203\n",
      "1997    191\n",
      "1998    210\n",
      "1999    224\n",
      "2000    224\n",
      "2001    241\n",
      "2002    264\n",
      "2003    281\n",
      "2004    307\n",
      "2005    361\n",
      "2006    404\n",
      "2007    432\n",
      "2008    486\n",
      "2009    525\n",
      "2010    475\n",
      "2011    532\n",
      "2012    574\n",
      "2013    649\n",
      "2014    682\n",
      "2015    617\n",
      "Name: id, dtype: int64\n"
     ]
    }
   ],
   "source": [
    "# Continue to explore the data to address your additional research\n",
    "#   questions. Add more headers as needed if you have more questions to\n",
    "#   investigate.\n",
    "num_of_release_per_year=df.groupby('release_year').count()['id']\n",
    "print(num_of_release_per_year)"
   ]
  },
  {
   "cell_type": "code",
   "execution_count": 53,
   "metadata": {},
   "outputs": [
    {
     "data": {
      "image/png": "[encoded data removed]",
      "text/plain": [
       "<Figure size 864x720 with 1 Axes>"
      ]
     },
     "metadata": {},
     "output_type": "display_data"
    }
   ],
   "source": [
    "#make visualization for the result\n",
    "num_of_release_per_year.plot(xticks = np.arange(1960,2016,5),fontsize = 11,figsize=(12,10));\n",
    "plt.title('number of releases per year',fontsize = 20)\n",
    "plt.xlabel('release year', fontsize=18)\n",
    "plt.ylabel('number of releases', fontsize=18)\n",
    "plt.legend();\n",
    "sns.set_style(\"darkgrid\")"
   ]
  },
  {
   "cell_type": "markdown",
   "metadata": {},
   "source": [
    "### the year has highest release of movies is :2014"
   ]
  },
  {
   "cell_type": "markdown",
   "metadata": {},
   "source": [
    "### Research Question 3 : What level of vote rating(vote_average value)receives highest revenue?"
   ]
  },
  {
   "cell_type": "code",
   "execution_count": 39,
   "metadata": {},
   "outputs": [
    {
     "data": {
      "text/plain": [
       "count    10731.000000\n",
       "mean         5.964710\n",
       "std          0.930283\n",
       "min          1.500000\n",
       "25%          5.400000\n",
       "50%          6.000000\n",
       "75%          6.600000\n",
       "max          9.200000\n",
       "Name: vote_average, dtype: float64"
      ]
     },
     "execution_count": 39,
     "metadata": {},
     "output_type": "execute_result"
    }
   ],
   "source": [
    "#first i will describe vote_average columns\n",
    "df['vote_average'].describe()"
   ]
  },
  {
   "cell_type": "code",
   "execution_count": 40,
   "metadata": {},
   "outputs": [],
   "source": [
    "# Bin edges that will be used to \"cut\" the data into groups\n",
    "bin_edges =['1.5','5.4','6.0','6.6','9.2']"
   ]
  },
  {
   "cell_type": "code",
   "execution_count": 41,
   "metadata": {},
   "outputs": [],
   "source": [
    "# Labels for the four voting rate groups\n",
    "bin_names = ['low','medium','mod_high','high']"
   ]
  },
  {
   "cell_type": "code",
   "execution_count": 42,
   "metadata": {},
   "outputs": [
    {
     "data": {
      "text/html": [
       "<div>\n",
       "<style scoped>\n",
       "    .dataframe tbody tr th:only-of-type {\n",
       "        vertical-align: middle;\n",
       "    }\n",
       "\n",
       "    .dataframe tbody tr th {\n",
       "        vertical-align: top;\n",
       "    }\n",
       "\n",
       "    .dataframe thead th {\n",
       "        text-align: right;\n",
       "    }\n",
       "</style>\n",
       "<table border=\"1\" class=\"dataframe\">\n",
       "  <thead>\n",
       "    <tr style=\"text-align: right;\">\n",
       "      <th></th>\n",
       "      <th>id</th>\n",
       "      <th>popularity</th>\n",
       "      <th>budget</th>\n",
       "      <th>revenue</th>\n",
       "      <th>original_title</th>\n",
       "      <th>cast</th>\n",
       "      <th>director</th>\n",
       "      <th>runtime</th>\n",
       "      <th>genres</th>\n",
       "      <th>release_date</th>\n",
       "      <th>vote_count</th>\n",
       "      <th>vote_average</th>\n",
       "      <th>release_year</th>\n",
       "      <th>voting_rate</th>\n",
       "    </tr>\n",
       "  </thead>\n",
       "  <tbody>\n",
       "    <tr>\n",
       "      <th>0</th>\n",
       "      <td>135397</td>\n",
       "      <td>32.985763</td>\n",
       "      <td>150000000</td>\n",
       "      <td>1513528810</td>\n",
       "      <td>Jurassic World</td>\n",
       "      <td>Chris Pratt|Bryce Dallas Howard|Irrfan Khan|Vi...</td>\n",
       "      <td>Colin Trevorrow</td>\n",
       "      <td>124</td>\n",
       "      <td>Action</td>\n",
       "      <td>6/9/15</td>\n",
       "      <td>5562</td>\n",
       "      <td>6.5</td>\n",
       "      <td>2015</td>\n",
       "      <td>mod_high</td>\n",
       "    </tr>\n",
       "    <tr>\n",
       "      <th>1</th>\n",
       "      <td>76341</td>\n",
       "      <td>28.419936</td>\n",
       "      <td>150000000</td>\n",
       "      <td>378436354</td>\n",
       "      <td>Mad Max: Fury Road</td>\n",
       "      <td>Tom Hardy|Charlize Theron|Hugh Keays-Byrne|Nic...</td>\n",
       "      <td>George Miller</td>\n",
       "      <td>120</td>\n",
       "      <td>Action</td>\n",
       "      <td>5/13/15</td>\n",
       "      <td>6185</td>\n",
       "      <td>7.1</td>\n",
       "      <td>2015</td>\n",
       "      <td>high</td>\n",
       "    </tr>\n",
       "    <tr>\n",
       "      <th>2</th>\n",
       "      <td>262500</td>\n",
       "      <td>13.112507</td>\n",
       "      <td>110000000</td>\n",
       "      <td>295238201</td>\n",
       "      <td>Insurgent</td>\n",
       "      <td>Shailene Woodley|Theo James|Kate Winslet|Ansel...</td>\n",
       "      <td>Robert Schwentke</td>\n",
       "      <td>119</td>\n",
       "      <td>Adventure</td>\n",
       "      <td>3/18/15</td>\n",
       "      <td>2480</td>\n",
       "      <td>6.3</td>\n",
       "      <td>2015</td>\n",
       "      <td>mod_high</td>\n",
       "    </tr>\n",
       "    <tr>\n",
       "      <th>3</th>\n",
       "      <td>140607</td>\n",
       "      <td>11.173104</td>\n",
       "      <td>200000000</td>\n",
       "      <td>2068178225</td>\n",
       "      <td>Star Wars: The Force Awakens</td>\n",
       "      <td>Harrison Ford|Mark Hamill|Carrie Fisher|Adam D...</td>\n",
       "      <td>J.J. Abrams</td>\n",
       "      <td>136</td>\n",
       "      <td>Action</td>\n",
       "      <td>12/15/15</td>\n",
       "      <td>5292</td>\n",
       "      <td>7.5</td>\n",
       "      <td>2015</td>\n",
       "      <td>high</td>\n",
       "    </tr>\n",
       "    <tr>\n",
       "      <th>4</th>\n",
       "      <td>168259</td>\n",
       "      <td>9.335014</td>\n",
       "      <td>190000000</td>\n",
       "      <td>1506249360</td>\n",
       "      <td>Furious 7</td>\n",
       "      <td>Vin Diesel|Paul Walker|Jason Statham|Michelle ...</td>\n",
       "      <td>James Wan</td>\n",
       "      <td>137</td>\n",
       "      <td>Action</td>\n",
       "      <td>4/1/15</td>\n",
       "      <td>2947</td>\n",
       "      <td>7.3</td>\n",
       "      <td>2015</td>\n",
       "      <td>high</td>\n",
       "    </tr>\n",
       "  </tbody>\n",
       "</table>\n",
       "</div>"
      ],
      "text/plain": [
       "       id  popularity     budget     revenue                original_title  \\\n",
       "0  135397   32.985763  150000000  1513528810                Jurassic World   \n",
       "1   76341   28.419936  150000000   378436354            Mad Max: Fury Road   \n",
       "2  262500   13.112507  110000000   295238201                     Insurgent   \n",
       "3  140607   11.173104  200000000  2068178225  Star Wars: The Force Awakens   \n",
       "4  168259    9.335014  190000000  1506249360                     Furious 7   \n",
       "\n",
       "                                                cast          director  \\\n",
       "0  Chris Pratt|Bryce Dallas Howard|Irrfan Khan|Vi...   Colin Trevorrow   \n",
       "1  Tom Hardy|Charlize Theron|Hugh Keays-Byrne|Nic...     George Miller   \n",
       "2  Shailene Woodley|Theo James|Kate Winslet|Ansel...  Robert Schwentke   \n",
       "3  Harrison Ford|Mark Hamill|Carrie Fisher|Adam D...       J.J. Abrams   \n",
       "4  Vin Diesel|Paul Walker|Jason Statham|Michelle ...         James Wan   \n",
       "\n",
       "   runtime     genres release_date  vote_count  vote_average  release_year  \\\n",
       "0      124     Action       6/9/15        5562           6.5          2015   \n",
       "1      120     Action      5/13/15        6185           7.1          2015   \n",
       "2      119  Adventure      3/18/15        2480           6.3          2015   \n",
       "3      136     Action     12/15/15        5292           7.5          2015   \n",
       "4      137     Action       4/1/15        2947           7.3          2015   \n",
       "\n",
       "  voting_rate  \n",
       "0    mod_high  \n",
       "1        high  \n",
       "2    mod_high  \n",
       "3        high  \n",
       "4        high  "
      ]
     },
     "execution_count": 42,
     "metadata": {},
     "output_type": "execute_result"
    }
   ],
   "source": [
    "# Creates voting_rate column\n",
    "df['voting_rate'] = pd.cut(df['vote_average'], bin_edges, labels=bin_names)\n",
    "# Checks for successful creation of this column\n",
    "df.head()"
   ]
  },
  {
   "cell_type": "code",
   "execution_count": 43,
   "metadata": {},
   "outputs": [
    {
     "name": "stdout",
     "output_type": "stream",
     "text": [
      "voting_rate\n",
      "low         4.058686e+07\n",
      "medium      5.655774e+07\n",
      "mod_high    6.902263e+07\n",
      "high        8.356196e+07\n",
      "Name: revenue, dtype: float64\n"
     ]
    }
   ],
   "source": [
    "#knowing average revenue with each category of vote rating \n",
    "voting_rate_revenue_avg=df.groupby('voting_rate').revenue.mean()\n",
    "print(voting_rate_revenue_avg)"
   ]
  },
  {
   "cell_type": "code",
   "execution_count": 44,
   "metadata": {},
   "outputs": [
    {
     "data": {
      "image/png": "[encoded data removed]",
      "text/plain": [
       "<Figure size 432x288 with 1 Axes>"
      ]
     },
     "metadata": {},
     "output_type": "display_data"
    }
   ],
   "source": [
    "# Create a bar chart with proper labels\n",
    "locations = [1,2, 3, 4]  # reorder values above to go from low to high\n",
    "heights = voting_rate_revenue_avg\n",
    "\n",
    "# labels = ['Low', 'Medium', 'Moderately High', 'High']\n",
    "labels = voting_rate_revenue_avg.index.str.replace('_', ' ').str.title() # alternative to commented out line above\n",
    "\n",
    "plt.bar(locations, heights, tick_label=labels,color='red',alpha=.7);\n",
    "plt.title('Average revenue Ratings by voting rate',fontsize = 15);\n",
    "plt.xlabel('Voting rate',fontsize = 15);\n",
    "plt.ylabel('Average revenue Rating',fontsize = 15);\n",
    "\n"
   ]
  },
  {
   "cell_type": "markdown",
   "metadata": {},
   "source": [
    "### exactly High average Revenue relative to high vote rate"
   ]
  },
  {
   "cell_type": "markdown",
   "metadata": {},
   "source": [
    "<a id='conclusions'></a>\n",
    "## Conclusions\n",
    "\n",
    "> after analysy for data set and answer question that i posed:\n",
    "- the genres most popular is : Adventure movies\n",
    "- genres has highest budget is : Adventure movies\n",
    "- genres has lowest budget is : Horror movies\n",
    "- the year has highest release of movies is :2014\n",
    "- High average Revenue relative to high vote rate\n",
    "\n",
    "## limitations\n",
    "\n",
    "> The analysis that has been done now cannot be guaranteed to be completely free of errors. However, this analysis was done through the data that was given to us.\n",
    "It is not possible to fully predict its correctness or the possibility of it being completely free from errors.\n",
    "It is also wrong to ensure that the results produced by the analysis are completely correct or 100%\n",
    "Since those data were missing data, they also contained zeros\n",
    "Also, some data has been deducted from it until some questions are answered.\n",
    "Addressing these data-related problems may affect in one way or another the validity of those exported data in such a way that it may be definitively certain.\n"
   ]
  },
  {
   "cell_type": "code",
   "execution_count": null,
   "metadata": {},
   "outputs": [],
   "source": []
  }
 ],
 "metadata": {
  "kernelspec": {
   "display_name": "Python 3 (ipykernel)",
   "language": "python",
   "name": "python3"
  },
  "language_info": {
   "codemirror_mode": {
    "name": "ipython",
    "version": 3
   },
   "file_extension": ".py",
   "mimetype": "text/x-python",
   "name": "python",
   "nbconvert_exporter": "python",
   "pygments_lexer": "ipython3",
   "version": "3.7.11"
  }
 },
 "nbformat": 4,
 "nbformat_minor": 2
}
